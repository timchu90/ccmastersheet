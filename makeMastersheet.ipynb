{
 "cells": [
  {
   "cell_type": "code",
   "execution_count": 10,
   "metadata": {},
   "outputs": [
    {
     "name": "stdout",
     "output_type": "stream",
     "text": [
      "Requirement already satisfied: openpyxl in /srv/conda/lib/python3.6/site-packages (2.5.10)\n",
      "Requirement already satisfied: jdcal in /srv/conda/lib/python3.6/site-packages (from openpyxl) (1.4)\n",
      "Requirement already satisfied: et_xmlfile in /srv/conda/lib/python3.6/site-packages (from openpyxl) (1.0.1)\n",
      "Collecting xlrd\n",
      "\u001b[?25l  Downloading https://files.pythonhosted.org/packages/07/e6/e95c4eec6221bfd8528bcc4ea252a850bffcc4be88ebc367e23a1a84b0bb/xlrd-1.1.0-py2.py3-none-any.whl (108kB)\n",
      "\u001b[K    100% |████████████████████████████████| 112kB 2.7MB/s ta 0:00:01\n",
      "\u001b[?25hInstalling collected packages: xlrd\n",
      "Successfully installed xlrd-1.1.0\n"
     ]
    }
   ],
   "source": [
    "!pip install openpyxl\n",
    "!pip install xlrd"
   ]
  },
  {
   "cell_type": "code",
   "execution_count": 4,
   "metadata": {},
   "outputs": [],
   "source": [
    "import sys\n",
    "import pandas as pd\n",
    "import glob\n",
    "from pandas import ExcelWriter\n",
    "from pandas import ExcelFile"
   ]
  },
  {
   "cell_type": "code",
   "execution_count": 11,
   "metadata": {},
   "outputs": [
    {
     "name": "stdout",
     "output_type": "stream",
     "text": [
      "P.S. 169K - Sunset Park School\n"
     ]
    },
    {
     "name": "stderr",
     "output_type": "stream",
     "text": [
      "/srv/conda/lib/python3.6/site-packages/pandas/io/excel.py:329: FutureWarning: The `sheetname` keyword is deprecated, use `sheet_name` instead\n",
      "  **kwds)\n"
     ]
    },
    {
     "name": "stdout",
     "output_type": "stream",
     "text": [
      "BCA Daycare Center\n"
     ]
    }
   ],
   "source": [
    "outputCols = ['FAMILY NAME','TYPE','Program','SCHOOL NAME','GW ID','Pass ID #','Type','ADULT 1 FIRST NAME','ADULT 1 LAST NAME','ADULT 2 FIRST NAME','ADULT 2 LAST NAME','CHILD FIRST NAME','CHILD LAST NAME',\"CHILD'S CLASS\",'Adult 1 Email Address',\"Adult 2 Email Address\",\"STAFF TITLE\",\"Staff Email\"]\n",
    "finalOutput = pd.DataFrame(columns=outputCols)\n",
    "\n",
    "for index, file in enumerate(glob.glob(\"/home/jovyan/CoolCulture/Schools/*\")):\n",
    "    schoolName = file.split('/')[5].replace('.xlsx','')\n",
    "    print(schoolName)\n",
    "        \n",
    "    familyOutput = pd.DataFrame(columns=outputCols)\n",
    "    input = pd.read_excel(file, sheetname='Families', usecols=8)\n",
    "    \n",
    "    familyOutput[\"ADULT 1 FIRST NAME\"] = input.iloc[:,0]\n",
    "    familyOutput[\"ADULT 1 LAST NAME\"] = input.iloc[:,1]\n",
    "    familyOutput[\"ADULT 2 FIRST NAME\"] = input.iloc[:,2]\n",
    "    familyOutput[\"ADULT 2 LAST NAME\"] = input.iloc[:,3]\n",
    "    familyOutput['CHILD FIRST NAME'] = input.iloc[:,4]\n",
    "    familyOutput['CHILD LAST NAME'] = input.iloc[:,5]\n",
    "    familyOutput['CHILD\\'S CLASS'] = input.iloc[:,6]\n",
    "    familyOutput['Adult 1 Email Address'] = input.iloc[:,7]\n",
    "    familyOutput['Adult 2 Email Address'] = input.iloc[:,8]\n",
    "    familyOutput['Type'] = 'F'\n",
    "    \n",
    "    input = pd.read_excel(file, sheetname='Staff', usecols=5)\n",
    "    \n",
    "    staffOutput = pd.DataFrame(columns=outputCols)\n",
    "    \n",
    "    staffOutput[\"ADULT 1 FIRST NAME\"] = input.iloc[:,0]\n",
    "    staffOutput[\"ADULT 1 LAST NAME\"] = input.iloc[:,1]\n",
    "    staffOutput[\"ADULT 2 FIRST NAME\"] = input.iloc[:,2]\n",
    "    staffOutput[\"ADULT 2 LAST NAME\"] = input.iloc[:,3]\n",
    "    staffOutput[\"STAFF TITLE\"] = input.iloc[:,4]\n",
    "    staffOutput[\"Staff Email\"] = input.iloc[:,5]\n",
    "    staffOutput['Type'] = 'S'\n",
    "    \n",
    "    output = pd.DataFrame(columns=outputCols)\n",
    "    output = pd.concat([familyOutput,staffOutput])\n",
    "    \n",
    "    output['TYPE'] = 'FAMILY'\n",
    "    \n",
    "    for i in range(output.shape[0]):\n",
    "        name1 = output.iloc[i,:]['ADULT 1 LAST NAME']\n",
    "        name2 = output.iloc[i,:]['ADULT 2 LAST NAME']\n",
    "        if pd.isnull(name1):\n",
    "             familyName = name2\n",
    "        elif pd.isnull(name2):\n",
    "            familyName = name1\n",
    "        else:\n",
    "            familyName = name1 + '/' + name2\n",
    "        output.iat[i,0] = familyName\n",
    "        \n",
    "    output['SCHOOL NAME'] = schoolName\n",
    "    output.sort_values(by='FAMILY NAME')\n",
    "    finalOutput = pd.concat([finalOutput,output])\n",
    "\n",
    "finalOutput.to_excel('/home/jovyan/CoolCulture/output/Mastersheet.xlsx',index=False)"
   ]
  },
  {
   "cell_type": "code",
   "execution_count": null,
   "metadata": {},
   "outputs": [],
   "source": []
  }
 ],
 "metadata": {
  "kernelspec": {
   "display_name": "Python 3",
   "language": "python",
   "name": "python3"
  },
  "language_info": {
   "codemirror_mode": {
    "name": "ipython",
    "version": 3
   },
   "file_extension": ".py",
   "mimetype": "text/x-python",
   "name": "python",
   "nbconvert_exporter": "python",
   "pygments_lexer": "ipython3",
   "version": "3.6.6"
  }
 },
 "nbformat": 4,
 "nbformat_minor": 2
}
